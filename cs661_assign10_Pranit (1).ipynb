{
  "cells": [
    {
      "cell_type": "markdown",
      "id": "b6a18bfe-0f27-4541-a946-a6eb1e90b309",
      "metadata": {
        "id": "b6a18bfe-0f27-4541-a946-a6eb1e90b309"
      },
      "source": [
        "### CS661 Assign10\n",
        "\n",
        "Name: Pranit Kumbhar"
      ]
    },
    {
      "cell_type": "markdown",
      "id": "f2e94e9b-f5a0-423e-a3e6-c4b8eaa307e4",
      "metadata": {
        "id": "f2e94e9b-f5a0-423e-a3e6-c4b8eaa307e4"
      },
      "source": [
        "# Extracting HTML Data\n",
        "The US Treasury Secretary data used in Assign9 came from the US government web page `Prior-Secretaries-US-Department-of-the-Treasury.html`.  Google the web page, display it in a browser, save it on your local machine, then upload to your Colbal account.\n",
        "\n",
        "The secretaries data can be found in an HTML `<table>` element.\n",
        "\n",
        "Tabular data in an HTML page is often structured using the `<table>` HTML element.  The structure of a `<table>` is:\n",
        "\n",
        "     <table>\n",
        "      <thead>\n",
        "          <th>column headers</th>\n",
        "          . . .\n",
        "          <th>column headers</th>\n",
        "          <!-- also other table metadata -->\n",
        "      </thead>\n",
        "      <tbody>\n",
        "          <tr> <!-- a row of the table -->\n",
        "              <th>row header</th> <!-- sometimes, but not consistent, same function as <td> -->\n",
        "              <td>table cell data</td> <!-- column data cells in left to right order -->\n",
        "              <td>table cell data</td>\n",
        "              . . .\n",
        "              <td>table cell data</td>\n",
        "          </tr>\n",
        "          <tr>\n",
        "              <!-- another table row of <th> and <td> elements -->\n",
        "          </tr>\n",
        "      </tbody>\n",
        "    </table>\n",
        "\n",
        "[BeautifulSoup](https://www.crummy.com/software/BeautifulSoup/bs4/doc/) is the easiest way to extract the data.  The data for each US Secretary of the Treasury is in each row of the table, in historical order.\n",
        "\n",
        "Write a notebook (or program) to extract the data from the page and write a tab-separated output file, named `./your_last_name-cs661-assign10-data.tsv`, that contains records of the form:\n",
        "\n",
        "    secretary_name tab president_name tab secretary_home_state tab term \\n\n",
        "    \n",
        "for every combination of secretary and president.\n",
        "\n",
        "### Extract Hints\n",
        "* To use BeautifulSoup with the html.parser module, `import bs4`, then code `bs = bs4.BeautifulSoup(fd, 'html.parser')` where `fd` is an open file descriptor, and `bs` is the returned memory model of the parsed document\n",
        "    * HTML tags are of type `bs4.Tag`, and tag names are the `.name` attribute; eg. `if not isinstance(tr, bs4.Tag) or tr.name != 'tr':`\n",
        "    * `.find(tag-name)` or `.find_all(tag-name)` will return the next element with the named tag, or a list of all elements with the named tag\n",
        "    * The children of a tag are available with the attribute `.children` which is an iterator\n",
        "    * `.next_sibling` and `.previous_sibling` point to the next and previous tag or string content at the same level\n",
        "    * `.next_siblings` and `.previous_siblings` are iterators\n",
        "    * `.next_element` and `.previous_element` point to the next and previous HTML tags in a depth-first traversal of the tags\n",
        "    * The `.text` attribute of an element is a concatentation of all the character content of all its child elements\n",
        "\n",
        "Multiple presidents (and multiple terms) occur in a `<td>` element, nested within a paragraph `<p>`, separated by a break `<br/>`, as:\n",
        "\n",
        "    <td>\n",
        "    <p>John Adams<br />\n",
        "    Jefferson</p>\n",
        "    </td>\n",
        "\n",
        "    If `el` refers to the `<td>` element, then `el.text` is the string `\\nJohn Adams\\n\\t\\t\\tJefferson\\n`\n",
        "  \n",
        "* Number of terms will always be the same as the number of presidents\n",
        "* `<td>` elements can be identified by their sequence within their `<tr>` parent; keep a sequence counter\n",
        "* The string method `.strip()` will remove leading and trailing whitespace from a string\n",
        "* `re.split(pat, str)` will split a string on a regular expression, as does `str.split(ch)` with a string\n",
        "  \n",
        "If you add a code cell following your program and execute the OS command `wc`\n",
        "\n",
        "    !wc ./name-cs661-assign10-data.tsv\n",
        "  \n",
        "the output should be close to\n",
        "\n",
        "    106    1289    6725 ./name-cs661-assign10-data.tsv\n",
        "\n",
        "meaning 106 lines, 1289 words, 6725 characters.\n"
      ]
    },
    {
      "cell_type": "code",
      "execution_count": null,
      "id": "eb68c17d-0daf-472f-9ad9-77a5c21ce2eb",
      "metadata": {
        "id": "eb68c17d-0daf-472f-9ad9-77a5c21ce2eb",
        "colab": {
          "base_uri": "https://localhost:8080/"
        },
        "outputId": "7209c481-5232-442b-8499-eadf69b2d152"
      },
      "outputs": [
        {
          "output_type": "stream",
          "name": "stdout",
          "text": [
            "Mounted at /content/drive\n"
          ]
        }
      ],
      "source": [
        "from google.colab import drive\n",
        "\n",
        "drive.mount('/content/drive', force_remount=True)\n"
      ]
    },
    {
      "cell_type": "code",
      "source": [
        "!ls -l drive/MyDrive/data/*"
      ],
      "metadata": {
        "colab": {
          "base_uri": "https://localhost:8080/"
        },
        "id": "s4NJNvlBrdrl",
        "outputId": "da13dbd0-c155-4ab5-ba17-9ccaeae17fe1"
      },
      "id": "s4NJNvlBrdrl",
      "execution_count": null,
      "outputs": [
        {
          "output_type": "stream",
          "name": "stdout",
          "text": [
            "-rw------- 1 root root  10474 Nov  3 17:10  drive/MyDrive/data/cs661_assign8_PranitKumbhar.ipynb\n",
            "-rw------- 1 root root  10590 Nov 10 22:02  drive/MyDrive/data/cs661_assign9_PranitKumbhar.ipynb\n",
            "-rw------- 1 root root 196771 Nov 22 01:25 'drive/MyDrive/data/Prior Secretaries _ U.S. Department of the Treasury.html'\n",
            "-rw------- 1 root root   6297 Nov  3 01:23  drive/MyDrive/data/ustreas-sec.csv\n"
          ]
        }
      ]
    },
    {
      "cell_type": "code",
      "source": [
        "import bs4\n",
        "import re\n",
        "import os\n",
        "\n",
        "def extract_html(obj):\n",
        "\n",
        "  fd = open('drive/MyDrive/data/kumbhar-cs661-assign10-data.tsv', 'w', encoding='utf-8')\n",
        "\n",
        "  table = bs.find('table')\n",
        "\n",
        "  for row in table.tbody:\n",
        "    if not isinstance(row, bs4.Tag) or row.name != 'tr':\n",
        "      continue\n",
        "\n",
        "    th_ = row.find('th')\n",
        "    sec_and_state  = re.split(r',\\s', th_.text.strip('\\n'))\n",
        "\n",
        "    if len(sec_and_state) == 3:\n",
        "      secretary = ', '.join(sec_and_state[0:2])\n",
        "    else:\n",
        "      secretary = sec_and_state[0]\n",
        "\n",
        "    if len(sec_and_state) >= 2:\n",
        "      state = sec_and_state[-1]\n",
        "    else:\n",
        "      state = ''\n",
        "\n",
        "    td_ = row.find_all('td')\n",
        "    #print(td_)\n",
        "    for i, td in enumerate(td_):\n",
        "      if i==0:\n",
        "        terms = re.split(r'\\t+',td.text)\n",
        "        #print(terms)\n",
        "      elif i==1:\n",
        "        president = re.split(r'\\t+',td.text)\n",
        "\n",
        "    for i in range(len(president)):\n",
        "      fd.write('{}\\t{}\\t{}\\t{}'.format(secretary, president[i].strip('\\n'), state, terms[i].strip(',')))\n",
        "\n",
        "\n",
        "fp = 'drive/MyDrive/data/Prior Secretaries _ U.S. Department of the Treasury.html'\n",
        "fd = open(fp, 'r', encoding='utf-8')\n",
        "bs = bs4.BeautifulSoup(fd, 'html.parser')\n",
        "fd.close()\n",
        "\n",
        "extract_html(bs)\n",
        "\n",
        "\n"
      ],
      "metadata": {
        "id": "Rph8bwQ2rzta"
      },
      "id": "Rph8bwQ2rzta",
      "execution_count": 223,
      "outputs": []
    },
    {
      "cell_type": "code",
      "source": [
        "!wc ./kumbhar-cs661-assign10-data.tsv"
      ],
      "metadata": {
        "colab": {
          "base_uri": "https://localhost:8080/"
        },
        "id": "aHDUXXsBdF4U",
        "outputId": "554e3444-83a3-4844-8835-21c02ec1a426"
      },
      "id": "aHDUXXsBdF4U",
      "execution_count": 221,
      "outputs": [
        {
          "output_type": "stream",
          "name": "stdout",
          "text": [
            "  79 1184 6897 ./kumbhar-cs661-assign10-data.tsv\n"
          ]
        }
      ]
    }
  ],
  "metadata": {
    "colab": {
      "provenance": []
    },
    "kernelspec": {
      "display_name": "Python 3 (ipykernel)",
      "language": "python",
      "name": "python3"
    },
    "language_info": {
      "codemirror_mode": {
        "name": "ipython",
        "version": 3
      },
      "file_extension": ".py",
      "mimetype": "text/x-python",
      "name": "python",
      "nbconvert_exporter": "python",
      "pygments_lexer": "ipython3",
      "version": "3.11.1"
    }
  },
  "nbformat": 4,
  "nbformat_minor": 5
}