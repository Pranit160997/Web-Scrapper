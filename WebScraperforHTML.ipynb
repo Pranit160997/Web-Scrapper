{
  "nbformat": 4,
  "nbformat_minor": 0,
  "metadata": {
    "colab": {
      "provenance": []
    },
    "kernelspec": {
      "name": "python3",
      "display_name": "Python 3"
    },
    "language_info": {
      "name": "python"
    }
  },
  "cells": [
    {
      "cell_type": "markdown",
      "source": [
        "Simple Web Scraping Python Script\n"
      ],
      "metadata": {
        "id": "qu9EJh9SSwDl"
      }
    },
    {
      "cell_type": "code",
      "source": [
        "from google.colab import drive\n",
        "\n",
        "drive.mount('/content/drive', force_remount=True)\n"
      ],
      "metadata": {
        "colab": {
          "base_uri": "https://localhost:8080/"
        },
        "id": "8AGXNle2S3Hy",
        "outputId": "d838eab5-dc65-4e91-b6e4-acfc970b4555"
      },
      "execution_count": 1,
      "outputs": [
        {
          "output_type": "stream",
          "name": "stdout",
          "text": [
            "Mounted at /content/drive\n"
          ]
        }
      ]
    },
    {
      "cell_type": "code",
      "source": [
        "import bs4\n",
        "import re\n",
        "import os\n",
        "\n",
        "def extract_html(obj):\n",
        "\n",
        "  fd = open('drive/MyDrive/data/kumbhar-cs661-assign10-data.tsv', 'w', encoding='utf-8')\n",
        "\n",
        "  table = bs.find('table')\n",
        "\n",
        "  for row in table.tbody:\n",
        "    if not isinstance(row, bs4.Tag) or row.name != 'tr':\n",
        "      continue\n",
        "\n",
        "    th_ = row.find('th')\n",
        "    sec_and_state  = re.split(r',\\s', th_.text.strip('\\n'))\n",
        "\n",
        "    if len(sec_and_state) == 3:\n",
        "      secretary = ', '.join(sec_and_state[0:2])\n",
        "    else:\n",
        "      secretary = sec_and_state[0]\n",
        "\n",
        "    if len(sec_and_state) >= 2:\n",
        "      state = sec_and_state[-1]\n",
        "    else:\n",
        "      state = ''\n",
        "\n",
        "    td_ = row.find_all('td')\n",
        "    #print(td_)\n",
        "    for i, td in enumerate(td_):\n",
        "      if i==0:\n",
        "        terms = re.split(r'\\t+',td.text)\n",
        "        #print(terms)\n",
        "      elif i==1:\n",
        "        president = re.split(r'\\t+',td.text)\n",
        "\n",
        "    for i in range(len(president)):\n",
        "      fd.write('{}\\t{}\\t{}\\t{}'.format(secretary, president[i].strip('\\n'), state, terms[i].strip(',')))\n",
        "\n",
        "\n",
        "fp = 'drive/MyDrive/data/Prior Secretaries _ U.S. Department of the Treasury.html'\n",
        "fd = open(fp, 'r', encoding='utf-8')\n",
        "bs = bs4.BeautifulSoup(fd, 'html.parser')\n",
        "fd.close()\n",
        "\n",
        "extract_html(bs)\n",
        "\n",
        "\n"
      ],
      "metadata": {
        "id": "ij5hBPOkS6J_"
      },
      "execution_count": null,
      "outputs": []
    }
  ]
}